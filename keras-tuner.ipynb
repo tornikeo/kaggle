{
 "cells": [
  {
   "cell_type": "code",
   "execution_count": 1,
   "id": "466ccc11",
   "metadata": {
    "_cell_guid": "b1076dfc-b9ad-4769-8c92-a6c4dae69d19",
    "_uuid": "8f2839f25d086af736a60e9eeb907d3b93b6e0e5",
    "execution": {
     "iopub.execute_input": "2022-04-05T09:30:43.961514Z",
     "iopub.status.busy": "2022-04-05T09:30:43.960323Z",
     "iopub.status.idle": "2022-04-05T09:30:48.660520Z",
     "shell.execute_reply": "2022-04-05T09:30:48.659689Z",
     "shell.execute_reply.started": "2022-04-05T08:30:16.572879Z"
    },
    "papermill": {
     "duration": 4.730889,
     "end_time": "2022-04-05T09:30:48.660671",
     "exception": false,
     "start_time": "2022-04-05T09:30:43.929782",
     "status": "completed"
    },
    "tags": []
   },
   "outputs": [],
   "source": [
    "import tensorflow as tf\n",
    "from tensorflow import keras"
   ]
  },
  {
   "cell_type": "code",
   "execution_count": 2,
   "id": "0e1f6626",
   "metadata": {
    "execution": {
     "iopub.execute_input": "2022-04-05T09:30:48.707292Z",
     "iopub.status.busy": "2022-04-05T09:30:48.706679Z",
     "iopub.status.idle": "2022-04-05T09:30:50.438852Z",
     "shell.execute_reply": "2022-04-05T09:30:50.438350Z",
     "shell.execute_reply.started": "2022-04-05T08:30:22.211316Z"
    },
    "papermill": {
     "duration": 1.757253,
     "end_time": "2022-04-05T09:30:50.438991",
     "exception": false,
     "start_time": "2022-04-05T09:30:48.681738",
     "status": "completed"
    },
    "tags": []
   },
   "outputs": [],
   "source": [
    "import keras_tuner as kt"
   ]
  },
  {
   "cell_type": "code",
   "execution_count": 3,
   "id": "2234b65c",
   "metadata": {
    "execution": {
     "iopub.execute_input": "2022-04-05T09:30:50.485555Z",
     "iopub.status.busy": "2022-04-05T09:30:50.484890Z",
     "iopub.status.idle": "2022-04-05T09:30:51.725635Z",
     "shell.execute_reply": "2022-04-05T09:30:51.725083Z",
     "shell.execute_reply.started": "2022-04-05T08:31:43.994846Z"
    },
    "papermill": {
     "duration": 1.265801,
     "end_time": "2022-04-05T09:30:51.725786",
     "exception": false,
     "start_time": "2022-04-05T09:30:50.459985",
     "status": "completed"
    },
    "tags": []
   },
   "outputs": [
    {
     "name": "stdout",
     "output_type": "stream",
     "text": [
      "Downloading data from https://storage.googleapis.com/tensorflow/tf-keras-datasets/train-labels-idx1-ubyte.gz\n",
      "32768/29515 [=================================] - 0s 0us/step\n",
      "40960/29515 [=========================================] - 0s 0us/step\n",
      "Downloading data from https://storage.googleapis.com/tensorflow/tf-keras-datasets/train-images-idx3-ubyte.gz\n",
      "26427392/26421880 [==============================] - 0s 0us/step\n",
      "26435584/26421880 [==============================] - 0s 0us/step\n",
      "Downloading data from https://storage.googleapis.com/tensorflow/tf-keras-datasets/t10k-labels-idx1-ubyte.gz\n",
      "16384/5148 [===============================================================================================] - 0s 0us/step\n",
      "Downloading data from https://storage.googleapis.com/tensorflow/tf-keras-datasets/t10k-images-idx3-ubyte.gz\n",
      "4423680/4422102 [==============================] - 0s 0us/step\n",
      "4431872/4422102 [==============================] - 0s 0us/step\n"
     ]
    }
   ],
   "source": [
    "(img_train, label_train), (img_test, label_test) = keras.datasets.fashion_mnist.load_data()"
   ]
  },
  {
   "cell_type": "code",
   "execution_count": 4,
   "id": "0ec003a7",
   "metadata": {
    "execution": {
     "iopub.execute_input": "2022-04-05T09:30:51.787291Z",
     "iopub.status.busy": "2022-04-05T09:30:51.786592Z",
     "iopub.status.idle": "2022-04-05T09:30:51.887306Z",
     "shell.execute_reply": "2022-04-05T09:30:51.886677Z",
     "shell.execute_reply.started": "2022-04-05T08:31:44.497989Z"
    },
    "papermill": {
     "duration": 0.134125,
     "end_time": "2022-04-05T09:30:51.887452",
     "exception": false,
     "start_time": "2022-04-05T09:30:51.753327",
     "status": "completed"
    },
    "tags": []
   },
   "outputs": [],
   "source": [
    "# Normalize pixel values between 0 and 1\n",
    "img_train = img_train.astype('float32') / 255.0\n",
    "img_test = img_test.astype('float32') / 255.0"
   ]
  },
  {
   "cell_type": "code",
   "execution_count": 5,
   "id": "dce0732b",
   "metadata": {
    "execution": {
     "iopub.execute_input": "2022-04-05T09:30:51.949718Z",
     "iopub.status.busy": "2022-04-05T09:30:51.948767Z",
     "iopub.status.idle": "2022-04-05T09:30:51.952807Z",
     "shell.execute_reply": "2022-04-05T09:30:51.953305Z",
     "shell.execute_reply.started": "2022-04-05T08:31:45.007573Z"
    },
    "papermill": {
     "duration": 0.038843,
     "end_time": "2022-04-05T09:30:51.953497",
     "exception": false,
     "start_time": "2022-04-05T09:30:51.914654",
     "status": "completed"
    },
    "tags": []
   },
   "outputs": [
    {
     "data": {
      "text/plain": [
       "dtype('float32')"
      ]
     },
     "execution_count": 5,
     "metadata": {},
     "output_type": "execute_result"
    }
   ],
   "source": [
    "img_train.dtype"
   ]
  },
  {
   "cell_type": "markdown",
   "id": "545f1226",
   "metadata": {
    "papermill": {
     "duration": 0.025588,
     "end_time": "2022-04-05T09:30:52.006168",
     "exception": false,
     "start_time": "2022-04-05T09:30:51.980580",
     "status": "completed"
    },
    "tags": []
   },
   "source": [
    "Can make hypermodel in two ways:\n",
    "* Use model builder function.\n",
    "* Subclass HyperModel class"
   ]
  },
  {
   "cell_type": "code",
   "execution_count": 6,
   "id": "f90b6c34",
   "metadata": {
    "execution": {
     "iopub.execute_input": "2022-04-05T09:30:52.065213Z",
     "iopub.status.busy": "2022-04-05T09:30:52.064306Z",
     "iopub.status.idle": "2022-04-05T09:30:52.068037Z",
     "shell.execute_reply": "2022-04-05T09:30:52.067543Z",
     "shell.execute_reply.started": "2022-04-05T08:33:35.949298Z"
    },
    "papermill": {
     "duration": 0.035275,
     "end_time": "2022-04-05T09:30:52.068163",
     "exception": false,
     "start_time": "2022-04-05T09:30:52.032888",
     "status": "completed"
    },
    "tags": []
   },
   "outputs": [
    {
     "data": {
      "text/plain": [
       "keras_tuner.applications.efficientnet.HyperEfficientNet"
      ]
     },
     "execution_count": 6,
     "metadata": {},
     "output_type": "execute_result"
    }
   ],
   "source": [
    "kt.applications.efficientnet.HyperEfficientNet"
   ]
  },
  {
   "cell_type": "code",
   "execution_count": 7,
   "id": "ce58fd04",
   "metadata": {
    "execution": {
     "iopub.execute_input": "2022-04-05T09:30:52.132311Z",
     "iopub.status.busy": "2022-04-05T09:30:52.131680Z",
     "iopub.status.idle": "2022-04-05T09:30:52.134697Z",
     "shell.execute_reply": "2022-04-05T09:30:52.134133Z",
     "shell.execute_reply.started": "2022-04-05T08:38:04.538834Z"
    },
    "papermill": {
     "duration": 0.039093,
     "end_time": "2022-04-05T09:30:52.134835",
     "exception": false,
     "start_time": "2022-04-05T09:30:52.095742",
     "status": "completed"
    },
    "tags": []
   },
   "outputs": [],
   "source": [
    "def model_builder(hp):\n",
    "    model = keras.Sequential()\n",
    "    model.add(keras.layers.Flatten(input_shape=(28,28)))\n",
    "    \n",
    "    # Choose optimal number between 32 and 512, with +-32\n",
    "    hp_units = hp.Int('units',min_value=32,max_value=512,step=32)\n",
    "    model.add(keras.layers.Dense(units=hp_units, activation='relu'))\n",
    "    model.add(keras.layers.Dense(10))\n",
    "    # Choose learning rate from 1e-2, 1e-3 or 1e-4.\n",
    "    hp_lr = hp.Choice('learning_rate', values=[1e-2,1e-3,1e-4])\n",
    "    model.compile(\n",
    "        optimizer=keras.optimizers.Adam(hp_lr),\n",
    "        loss=keras.losses.SparseCategoricalCrossentropy(from_logits=True),\n",
    "        metrics=['accuracy'],\n",
    "    )\n",
    "    return model"
   ]
  },
  {
   "cell_type": "code",
   "execution_count": 8,
   "id": "b51c31a8",
   "metadata": {
    "execution": {
     "iopub.execute_input": "2022-04-05T09:30:52.197932Z",
     "iopub.status.busy": "2022-04-05T09:30:52.197224Z",
     "iopub.status.idle": "2022-04-05T09:30:52.311730Z",
     "shell.execute_reply": "2022-04-05T09:30:52.312214Z",
     "shell.execute_reply.started": "2022-04-05T08:39:09.112447Z"
    },
    "papermill": {
     "duration": 0.150001,
     "end_time": "2022-04-05T09:30:52.312380",
     "exception": false,
     "start_time": "2022-04-05T09:30:52.162379",
     "status": "completed"
    },
    "tags": []
   },
   "outputs": [
    {
     "name": "stderr",
     "output_type": "stream",
     "text": [
      "2022-04-05 09:30:52.227712: I tensorflow/core/common_runtime/process_util.cc:146] Creating new thread pool with default inter op setting: 2. Tune using inter_op_parallelism_threads for best performance.\n"
     ]
    }
   ],
   "source": [
    "tuner = kt.Hyperband(model_builder,\n",
    "                    objective='val_accuracy',\n",
    "                     max_epochs=10,\n",
    "                     factor=3,\n",
    "                     directory='my_dir',\n",
    "                     project_name='intro_to_kt',\n",
    "                    )"
   ]
  },
  {
   "cell_type": "code",
   "execution_count": 9,
   "id": "fb0b8f16",
   "metadata": {
    "execution": {
     "iopub.execute_input": "2022-04-05T09:30:52.370814Z",
     "iopub.status.busy": "2022-04-05T09:30:52.369783Z",
     "iopub.status.idle": "2022-04-05T09:30:52.373687Z",
     "shell.execute_reply": "2022-04-05T09:30:52.374309Z",
     "shell.execute_reply.started": "2022-04-05T08:42:52.302901Z"
    },
    "papermill": {
     "duration": 0.034916,
     "end_time": "2022-04-05T09:30:52.374492",
     "exception": false,
     "start_time": "2022-04-05T09:30:52.339576",
     "status": "completed"
    },
    "tags": []
   },
   "outputs": [],
   "source": [
    "stop_early = tf.keras.callbacks.EarlyStopping(\n",
    "    monitor='val_loss',patience=5)"
   ]
  },
  {
   "cell_type": "code",
   "execution_count": 10,
   "id": "3abfbf25",
   "metadata": {
    "execution": {
     "iopub.execute_input": "2022-04-05T09:30:52.440937Z",
     "iopub.status.busy": "2022-04-05T09:30:52.440093Z",
     "iopub.status.idle": "2022-04-05T09:30:52.443380Z",
     "shell.execute_reply": "2022-04-05T09:30:52.443872Z",
     "shell.execute_reply.started": "2022-04-05T08:42:09.730188Z"
    },
    "papermill": {
     "duration": 0.038088,
     "end_time": "2022-04-05T09:30:52.444033",
     "exception": false,
     "start_time": "2022-04-05T09:30:52.405945",
     "status": "completed"
    },
    "tags": []
   },
   "outputs": [
    {
     "data": {
      "text/plain": [
       "3.095903274289385"
      ]
     },
     "execution_count": 10,
     "metadata": {},
     "output_type": "execute_result"
    }
   ],
   "source": [
    "import numpy as np\n",
    "1 + np.log(10,)/np.log(3)"
   ]
  },
  {
   "cell_type": "code",
   "execution_count": 11,
   "id": "1a615b90",
   "metadata": {
    "collapsed": true,
    "execution": {
     "iopub.execute_input": "2022-04-05T09:30:52.502731Z",
     "iopub.status.busy": "2022-04-05T09:30:52.501750Z",
     "iopub.status.idle": "2022-04-05T09:38:56.659766Z",
     "shell.execute_reply": "2022-04-05T09:38:56.659278Z",
     "shell.execute_reply.started": "2022-04-05T08:44:02.293498Z"
    },
    "jupyter": {
     "outputs_hidden": true
    },
    "papermill": {
     "duration": 484.188107,
     "end_time": "2022-04-05T09:38:56.659903",
     "exception": false,
     "start_time": "2022-04-05T09:30:52.471796",
     "status": "completed"
    },
    "tags": []
   },
   "outputs": [
    {
     "name": "stdout",
     "output_type": "stream",
     "text": [
      "Trial 30 Complete [00h 00m 37s]\n",
      "val_accuracy: 0.856249988079071\n",
      "\n",
      "Best val_accuracy So Far: 0.8947499990463257\n",
      "Total elapsed time: 00h 08m 04s\n"
     ]
    }
   ],
   "source": [
    "tuner.search(\n",
    "    img_train, \n",
    "    label_train,\n",
    "    epochs=50,\n",
    "    validation_split=.2,\n",
    "    callbacks=[stop_early],\n",
    ")"
   ]
  },
  {
   "cell_type": "code",
   "execution_count": 12,
   "id": "a5ce57b8",
   "metadata": {
    "execution": {
     "iopub.execute_input": "2022-04-05T09:38:56.720487Z",
     "iopub.status.busy": "2022-04-05T09:38:56.719701Z",
     "iopub.status.idle": "2022-04-05T09:38:56.721834Z",
     "shell.execute_reply": "2022-04-05T09:38:56.722375Z",
     "shell.execute_reply.started": "2022-04-05T08:55:14.051098Z"
    },
    "papermill": {
     "duration": 0.034634,
     "end_time": "2022-04-05T09:38:56.722536",
     "exception": false,
     "start_time": "2022-04-05T09:38:56.687902",
     "status": "completed"
    },
    "tags": []
   },
   "outputs": [],
   "source": [
    "best_hps = tuner.get_best_hyperparameters(num_trials=1)[0]"
   ]
  },
  {
   "cell_type": "code",
   "execution_count": 13,
   "id": "ba9ad9c0",
   "metadata": {
    "execution": {
     "iopub.execute_input": "2022-04-05T09:38:56.780250Z",
     "iopub.status.busy": "2022-04-05T09:38:56.779352Z",
     "iopub.status.idle": "2022-04-05T09:38:56.785825Z",
     "shell.execute_reply": "2022-04-05T09:38:56.786361Z",
     "shell.execute_reply.started": "2022-04-05T08:55:33.629585Z"
    },
    "papermill": {
     "duration": 0.037068,
     "end_time": "2022-04-05T09:38:56.786526",
     "exception": false,
     "start_time": "2022-04-05T09:38:56.749458",
     "status": "completed"
    },
    "tags": []
   },
   "outputs": [
    {
     "data": {
      "text/plain": [
       "{'space': [{'class_name': 'Int',\n",
       "   'config': {'name': 'units',\n",
       "    'default': None,\n",
       "    'conditions': [],\n",
       "    'min_value': 32,\n",
       "    'max_value': 512,\n",
       "    'step': 32,\n",
       "    'sampling': None}},\n",
       "  {'class_name': 'Choice',\n",
       "   'config': {'name': 'learning_rate',\n",
       "    'default': 0.01,\n",
       "    'conditions': [],\n",
       "    'values': [0.01, 0.001, 0.0001],\n",
       "    'ordered': True}}],\n",
       " 'values': {'units': 480,\n",
       "  'learning_rate': 0.001,\n",
       "  'tuner/epochs': 10,\n",
       "  'tuner/initial_epoch': 0,\n",
       "  'tuner/bracket': 0,\n",
       "  'tuner/round': 0}}"
      ]
     },
     "execution_count": 13,
     "metadata": {},
     "output_type": "execute_result"
    }
   ],
   "source": [
    "best_hps.get_config()"
   ]
  },
  {
   "cell_type": "code",
   "execution_count": 14,
   "id": "64fdb68c",
   "metadata": {
    "execution": {
     "iopub.execute_input": "2022-04-05T09:38:56.846846Z",
     "iopub.status.busy": "2022-04-05T09:38:56.845858Z",
     "iopub.status.idle": "2022-04-05T09:38:56.850922Z",
     "shell.execute_reply": "2022-04-05T09:38:56.851498Z",
     "shell.execute_reply.started": "2022-04-05T08:56:43.353575Z"
    },
    "papermill": {
     "duration": 0.036782,
     "end_time": "2022-04-05T09:38:56.851664",
     "exception": false,
     "start_time": "2022-04-05T09:38:56.814882",
     "status": "completed"
    },
    "tags": []
   },
   "outputs": [
    {
     "name": "stdout",
     "output_type": "stream",
     "text": [
      "\n",
      "The hyperparameter search is complete. The optimal number of units in the first densely-connected\n",
      "layer is 480 and the optimal learning rate for the optimizer\n",
      "is 0.001.\n",
      "\n"
     ]
    }
   ],
   "source": [
    "print(f\"\"\"\n",
    "The hyperparameter search is complete. The optimal number of units in the first densely-connected\n",
    "layer is {best_hps.get('units')} and the optimal learning rate for the optimizer\n",
    "is {best_hps.get('learning_rate')}.\n",
    "\"\"\")\n"
   ]
  },
  {
   "cell_type": "code",
   "execution_count": 15,
   "id": "70f0beaf",
   "metadata": {
    "collapsed": true,
    "execution": {
     "iopub.execute_input": "2022-04-05T09:38:56.912458Z",
     "iopub.status.busy": "2022-04-05T09:38:56.911502Z",
     "iopub.status.idle": "2022-04-05T09:42:29.269695Z",
     "shell.execute_reply": "2022-04-05T09:42:29.270290Z",
     "shell.execute_reply.started": "2022-04-05T08:57:40.009806Z"
    },
    "jupyter": {
     "outputs_hidden": true
    },
    "papermill": {
     "duration": 212.390456,
     "end_time": "2022-04-05T09:42:29.270663",
     "exception": false,
     "start_time": "2022-04-05T09:38:56.880207",
     "status": "completed"
    },
    "tags": []
   },
   "outputs": [
    {
     "name": "stdout",
     "output_type": "stream",
     "text": [
      "Epoch 1/50\n",
      "1500/1500 [==============================] - 5s 3ms/step - loss: 0.4908 - accuracy: 0.8259 - val_loss: 0.3922 - val_accuracy: 0.8593\n",
      "Epoch 2/50\n",
      "1500/1500 [==============================] - 4s 3ms/step - loss: 0.3672 - accuracy: 0.8664 - val_loss: 0.3747 - val_accuracy: 0.8683\n",
      "Epoch 3/50\n",
      "1500/1500 [==============================] - 4s 3ms/step - loss: 0.3330 - accuracy: 0.8765 - val_loss: 0.3500 - val_accuracy: 0.8726\n",
      "Epoch 4/50\n",
      "1500/1500 [==============================] - 4s 3ms/step - loss: 0.3057 - accuracy: 0.8865 - val_loss: 0.3248 - val_accuracy: 0.8817\n",
      "Epoch 5/50\n",
      "1500/1500 [==============================] - 5s 3ms/step - loss: 0.2876 - accuracy: 0.8928 - val_loss: 0.3120 - val_accuracy: 0.8879\n",
      "Epoch 6/50\n",
      "1500/1500 [==============================] - 4s 3ms/step - loss: 0.2693 - accuracy: 0.8991 - val_loss: 0.3518 - val_accuracy: 0.8749\n",
      "Epoch 7/50\n",
      "1500/1500 [==============================] - 4s 3ms/step - loss: 0.2565 - accuracy: 0.9033 - val_loss: 0.3765 - val_accuracy: 0.8626\n",
      "Epoch 8/50\n",
      "1500/1500 [==============================] - 4s 3ms/step - loss: 0.2435 - accuracy: 0.9085 - val_loss: 0.3181 - val_accuracy: 0.8849\n",
      "Epoch 9/50\n",
      "1500/1500 [==============================] - 4s 3ms/step - loss: 0.2337 - accuracy: 0.9124 - val_loss: 0.3247 - val_accuracy: 0.8898\n",
      "Epoch 10/50\n",
      "1500/1500 [==============================] - 4s 3ms/step - loss: 0.2236 - accuracy: 0.9143 - val_loss: 0.3291 - val_accuracy: 0.8845\n",
      "Epoch 11/50\n",
      "1500/1500 [==============================] - 4s 3ms/step - loss: 0.2159 - accuracy: 0.9188 - val_loss: 0.3329 - val_accuracy: 0.8878\n",
      "Epoch 12/50\n",
      "1500/1500 [==============================] - 4s 3ms/step - loss: 0.2050 - accuracy: 0.9224 - val_loss: 0.3327 - val_accuracy: 0.8867\n",
      "Epoch 13/50\n",
      "1500/1500 [==============================] - 5s 3ms/step - loss: 0.1973 - accuracy: 0.9261 - val_loss: 0.3204 - val_accuracy: 0.8915\n",
      "Epoch 14/50\n",
      "1500/1500 [==============================] - 4s 3ms/step - loss: 0.1917 - accuracy: 0.9268 - val_loss: 0.3290 - val_accuracy: 0.8916\n",
      "Epoch 15/50\n",
      "1500/1500 [==============================] - 4s 3ms/step - loss: 0.1854 - accuracy: 0.9304 - val_loss: 0.3355 - val_accuracy: 0.8922\n",
      "Epoch 16/50\n",
      "1500/1500 [==============================] - 4s 3ms/step - loss: 0.1794 - accuracy: 0.9325 - val_loss: 0.3280 - val_accuracy: 0.8931\n",
      "Epoch 17/50\n",
      "1500/1500 [==============================] - 4s 3ms/step - loss: 0.1697 - accuracy: 0.9369 - val_loss: 0.3425 - val_accuracy: 0.8898\n",
      "Epoch 18/50\n",
      "1500/1500 [==============================] - 4s 3ms/step - loss: 0.1683 - accuracy: 0.9367 - val_loss: 0.3347 - val_accuracy: 0.8945\n",
      "Epoch 19/50\n",
      "1500/1500 [==============================] - 4s 3ms/step - loss: 0.1595 - accuracy: 0.9399 - val_loss: 0.3696 - val_accuracy: 0.8893\n",
      "Epoch 20/50\n",
      "1500/1500 [==============================] - 4s 3ms/step - loss: 0.1564 - accuracy: 0.9413 - val_loss: 0.3704 - val_accuracy: 0.8878\n",
      "Epoch 21/50\n",
      "1500/1500 [==============================] - 4s 3ms/step - loss: 0.1522 - accuracy: 0.9425 - val_loss: 0.3607 - val_accuracy: 0.8938\n",
      "Epoch 22/50\n",
      "1500/1500 [==============================] - 4s 3ms/step - loss: 0.1495 - accuracy: 0.9440 - val_loss: 0.3518 - val_accuracy: 0.8928\n",
      "Epoch 23/50\n",
      "1500/1500 [==============================] - 4s 3ms/step - loss: 0.1396 - accuracy: 0.9469 - val_loss: 0.3958 - val_accuracy: 0.8831\n",
      "Epoch 24/50\n",
      "1500/1500 [==============================] - 4s 3ms/step - loss: 0.1402 - accuracy: 0.9474 - val_loss: 0.3667 - val_accuracy: 0.8977\n",
      "Epoch 25/50\n",
      "1500/1500 [==============================] - 4s 3ms/step - loss: 0.1360 - accuracy: 0.9481 - val_loss: 0.3984 - val_accuracy: 0.8907\n",
      "Epoch 26/50\n",
      "1500/1500 [==============================] - 5s 3ms/step - loss: 0.1284 - accuracy: 0.9515 - val_loss: 0.3732 - val_accuracy: 0.8940\n",
      "Epoch 27/50\n",
      "1500/1500 [==============================] - 6s 4ms/step - loss: 0.1260 - accuracy: 0.9525 - val_loss: 0.3907 - val_accuracy: 0.8903\n",
      "Epoch 28/50\n",
      "1500/1500 [==============================] - 5s 3ms/step - loss: 0.1216 - accuracy: 0.9545 - val_loss: 0.3947 - val_accuracy: 0.8957\n",
      "Epoch 29/50\n",
      "1500/1500 [==============================] - 4s 3ms/step - loss: 0.1229 - accuracy: 0.9545 - val_loss: 0.4156 - val_accuracy: 0.8931\n",
      "Epoch 30/50\n",
      "1500/1500 [==============================] - 4s 3ms/step - loss: 0.1162 - accuracy: 0.9563 - val_loss: 0.4048 - val_accuracy: 0.8940\n",
      "Epoch 31/50\n",
      "1500/1500 [==============================] - 4s 3ms/step - loss: 0.1135 - accuracy: 0.9575 - val_loss: 0.4317 - val_accuracy: 0.8955\n",
      "Epoch 32/50\n",
      "1500/1500 [==============================] - 4s 3ms/step - loss: 0.1121 - accuracy: 0.9573 - val_loss: 0.4403 - val_accuracy: 0.8907\n",
      "Epoch 33/50\n",
      "1500/1500 [==============================] - 4s 3ms/step - loss: 0.1092 - accuracy: 0.9584 - val_loss: 0.4089 - val_accuracy: 0.8953\n",
      "Epoch 34/50\n",
      "1500/1500 [==============================] - 4s 3ms/step - loss: 0.1057 - accuracy: 0.9602 - val_loss: 0.4654 - val_accuracy: 0.8908\n",
      "Epoch 35/50\n",
      "1500/1500 [==============================] - 4s 3ms/step - loss: 0.1017 - accuracy: 0.9618 - val_loss: 0.4595 - val_accuracy: 0.8909\n",
      "Epoch 36/50\n",
      "1500/1500 [==============================] - 5s 3ms/step - loss: 0.1014 - accuracy: 0.9619 - val_loss: 0.4375 - val_accuracy: 0.8927\n",
      "Epoch 37/50\n",
      "1500/1500 [==============================] - 4s 3ms/step - loss: 0.0983 - accuracy: 0.9627 - val_loss: 0.4435 - val_accuracy: 0.8883\n",
      "Epoch 38/50\n",
      "1500/1500 [==============================] - 4s 3ms/step - loss: 0.0954 - accuracy: 0.9641 - val_loss: 0.4657 - val_accuracy: 0.8896\n",
      "Epoch 39/50\n",
      "1500/1500 [==============================] - 4s 3ms/step - loss: 0.0913 - accuracy: 0.9651 - val_loss: 0.5010 - val_accuracy: 0.8886\n",
      "Epoch 40/50\n",
      "1500/1500 [==============================] - 4s 3ms/step - loss: 0.0890 - accuracy: 0.9668 - val_loss: 0.4761 - val_accuracy: 0.8902\n",
      "Epoch 41/50\n",
      "1500/1500 [==============================] - 4s 3ms/step - loss: 0.0873 - accuracy: 0.9671 - val_loss: 0.5092 - val_accuracy: 0.8875\n",
      "Epoch 42/50\n",
      "1500/1500 [==============================] - 4s 3ms/step - loss: 0.0846 - accuracy: 0.9683 - val_loss: 0.5559 - val_accuracy: 0.8810\n",
      "Epoch 43/50\n",
      "1500/1500 [==============================] - 4s 3ms/step - loss: 0.0876 - accuracy: 0.9682 - val_loss: 0.5040 - val_accuracy: 0.8964\n",
      "Epoch 44/50\n",
      "1500/1500 [==============================] - 5s 3ms/step - loss: 0.0838 - accuracy: 0.9684 - val_loss: 0.5046 - val_accuracy: 0.8956\n",
      "Epoch 45/50\n",
      "1500/1500 [==============================] - 4s 3ms/step - loss: 0.0802 - accuracy: 0.9696 - val_loss: 0.5617 - val_accuracy: 0.8861\n",
      "Epoch 46/50\n",
      "1500/1500 [==============================] - 4s 3ms/step - loss: 0.0827 - accuracy: 0.9689 - val_loss: 0.5552 - val_accuracy: 0.8941\n",
      "Epoch 47/50\n",
      "1500/1500 [==============================] - 4s 3ms/step - loss: 0.0770 - accuracy: 0.9712 - val_loss: 0.5384 - val_accuracy: 0.8888\n",
      "Epoch 48/50\n",
      "1500/1500 [==============================] - 4s 3ms/step - loss: 0.0747 - accuracy: 0.9719 - val_loss: 0.5246 - val_accuracy: 0.8948\n",
      "Epoch 49/50\n",
      "1500/1500 [==============================] - 4s 3ms/step - loss: 0.0746 - accuracy: 0.9710 - val_loss: 0.5210 - val_accuracy: 0.8928\n",
      "Epoch 50/50\n",
      "1500/1500 [==============================] - 4s 3ms/step - loss: 0.0726 - accuracy: 0.9735 - val_loss: 0.5730 - val_accuracy: 0.8843\n",
      "Best epoch: 24\n"
     ]
    }
   ],
   "source": [
    "# Build the model with the optimal hyperparameters and train it on the data for 50 epochs\n",
    "model = tuner.hypermodel.build(best_hps)\n",
    "history = model.fit(img_train, label_train, epochs=50, validation_split=0.2)\n",
    "\n",
    "val_acc_per_epoch = history.history['val_accuracy']\n",
    "best_epoch = val_acc_per_epoch.index(max(val_acc_per_epoch)) + 1\n",
    "print('Best epoch: %d' % (best_epoch,))"
   ]
  },
  {
   "cell_type": "code",
   "execution_count": 16,
   "id": "0d3bc115",
   "metadata": {
    "execution": {
     "iopub.execute_input": "2022-04-05T09:42:31.971718Z",
     "iopub.status.busy": "2022-04-05T09:42:31.970712Z",
     "iopub.status.idle": "2022-04-05T09:42:31.976304Z",
     "shell.execute_reply": "2022-04-05T09:42:31.976729Z",
     "shell.execute_reply.started": "2022-04-05T09:11:14.128235Z"
    },
    "papermill": {
     "duration": 1.410512,
     "end_time": "2022-04-05T09:42:31.976890",
     "exception": false,
     "start_time": "2022-04-05T09:42:30.566378",
     "status": "completed"
    },
    "tags": []
   },
   "outputs": [
    {
     "data": {
      "text/plain": [
       "24"
      ]
     },
     "execution_count": 16,
     "metadata": {},
     "output_type": "execute_result"
    }
   ],
   "source": [
    "best_epoch"
   ]
  },
  {
   "cell_type": "code",
   "execution_count": 17,
   "id": "875c8748",
   "metadata": {
    "execution": {
     "iopub.execute_input": "2022-04-05T09:42:34.678203Z",
     "iopub.status.busy": "2022-04-05T09:42:34.677592Z",
     "iopub.status.idle": "2022-04-05T09:43:17.694420Z",
     "shell.execute_reply": "2022-04-05T09:43:17.694946Z",
     "shell.execute_reply.started": "2022-04-05T09:27:44.261986Z"
    },
    "papermill": {
     "duration": 44.325579,
     "end_time": "2022-04-05T09:43:17.695131",
     "exception": false,
     "start_time": "2022-04-05T09:42:33.369552",
     "status": "completed"
    },
    "tags": []
   },
   "outputs": [
    {
     "name": "stdout",
     "output_type": "stream",
     "text": [
      "Epoch 1/10\n",
      "1500/1500 [==============================] - 5s 3ms/step - loss: 0.4939 - accuracy: 0.8263 - val_loss: 0.4361 - val_accuracy: 0.8357\n",
      "Epoch 2/10\n",
      "1500/1500 [==============================] - 4s 3ms/step - loss: 0.3699 - accuracy: 0.8643 - val_loss: 0.3627 - val_accuracy: 0.8671\n",
      "Epoch 3/10\n",
      "1500/1500 [==============================] - 4s 3ms/step - loss: 0.3304 - accuracy: 0.8776 - val_loss: 0.3270 - val_accuracy: 0.8799\n",
      "Epoch 4/10\n",
      "1500/1500 [==============================] - 4s 3ms/step - loss: 0.3036 - accuracy: 0.8868 - val_loss: 0.3460 - val_accuracy: 0.8746\n",
      "Epoch 5/10\n",
      "1500/1500 [==============================] - 4s 3ms/step - loss: 0.2860 - accuracy: 0.8942 - val_loss: 0.3263 - val_accuracy: 0.8852\n",
      "Epoch 6/10\n",
      "1500/1500 [==============================] - 4s 3ms/step - loss: 0.2716 - accuracy: 0.8974 - val_loss: 0.3182 - val_accuracy: 0.8884\n",
      "Epoch 7/10\n",
      "1500/1500 [==============================] - 4s 3ms/step - loss: 0.2567 - accuracy: 0.9031 - val_loss: 0.3306 - val_accuracy: 0.8811\n",
      "Epoch 8/10\n",
      "1500/1500 [==============================] - 5s 3ms/step - loss: 0.2455 - accuracy: 0.9088 - val_loss: 0.3146 - val_accuracy: 0.8901\n",
      "Epoch 9/10\n",
      "1500/1500 [==============================] - 4s 3ms/step - loss: 0.2354 - accuracy: 0.9112 - val_loss: 0.3309 - val_accuracy: 0.8857\n",
      "Epoch 10/10\n",
      "1500/1500 [==============================] - 4s 3ms/step - loss: 0.2223 - accuracy: 0.9168 - val_loss: 0.3360 - val_accuracy: 0.8836\n"
     ]
    },
    {
     "data": {
      "text/plain": [
       "<keras.callbacks.History at 0x7f787a791b50>"
      ]
     },
     "execution_count": 17,
     "metadata": {},
     "output_type": "execute_result"
    }
   ],
   "source": [
    "hypermodel = tuner.hypermodel.build(best_hps)\n",
    "\n",
    "# Retrain the model\n",
    "hypermodel.fit(img_train, label_train, epochs=10, validation_split=0.2)"
   ]
  },
  {
   "cell_type": "code",
   "execution_count": 18,
   "id": "77394d87",
   "metadata": {
    "execution": {
     "iopub.execute_input": "2022-04-05T09:43:20.773517Z",
     "iopub.status.busy": "2022-04-05T09:43:20.769736Z",
     "iopub.status.idle": "2022-04-05T09:43:21.501554Z",
     "shell.execute_reply": "2022-04-05T09:43:21.502146Z",
     "shell.execute_reply.started": "2022-04-05T09:28:47.034172Z"
    },
    "papermill": {
     "duration": 2.264587,
     "end_time": "2022-04-05T09:43:21.502388",
     "exception": false,
     "start_time": "2022-04-05T09:43:19.237801",
     "status": "completed"
    },
    "tags": []
   },
   "outputs": [
    {
     "name": "stderr",
     "output_type": "stream",
     "text": [
      "2022-04-05 09:43:21.029862: W tensorflow/python/util/util.cc:348] Sets are not currently considered sequences, but this may change in the future, so consider avoiding using them.\n"
     ]
    }
   ],
   "source": [
    "tf.saved_model.save(hypermodel,'saved-model')"
   ]
  },
  {
   "cell_type": "code",
   "execution_count": 19,
   "id": "37d8cb52",
   "metadata": {
    "execution": {
     "iopub.execute_input": "2022-04-05T09:43:24.669757Z",
     "iopub.status.busy": "2022-04-05T09:43:24.668631Z",
     "iopub.status.idle": "2022-04-05T09:43:24.843111Z",
     "shell.execute_reply": "2022-04-05T09:43:24.842562Z",
     "shell.execute_reply.started": "2022-04-05T09:28:58.659495Z"
    },
    "papermill": {
     "duration": 1.730153,
     "end_time": "2022-04-05T09:43:24.843294",
     "exception": false,
     "start_time": "2022-04-05T09:43:23.113141",
     "status": "completed"
    },
    "tags": []
   },
   "outputs": [],
   "source": [
    "loaded = tf.saved_model.load('saved-model/')"
   ]
  },
  {
   "cell_type": "code",
   "execution_count": 20,
   "id": "9b8eef0b",
   "metadata": {
    "execution": {
     "iopub.execute_input": "2022-04-05T09:43:27.916169Z",
     "iopub.status.busy": "2022-04-05T09:43:27.915262Z",
     "iopub.status.idle": "2022-04-05T09:43:27.949614Z",
     "shell.execute_reply": "2022-04-05T09:43:27.950230Z",
     "shell.execute_reply.started": "2022-04-05T09:30:02.346433Z"
    },
    "papermill": {
     "duration": 1.576933,
     "end_time": "2022-04-05T09:43:27.950402",
     "exception": false,
     "start_time": "2022-04-05T09:43:26.373469",
     "status": "completed"
    },
    "tags": []
   },
   "outputs": [
    {
     "data": {
      "text/plain": [
       "<tf.Tensor: shape=(1, 10), dtype=float32, numpy=\n",
       "array([[ -4.023811 , -12.484087 ,   1.5164313,  -5.167639 ,  -5.073719 ,\n",
       "        -10.617945 ,  -3.5240197, -11.719722 ,  10.838055 , -13.377506 ]],\n",
       "      dtype=float32)>"
      ]
     },
     "execution_count": 20,
     "metadata": {},
     "output_type": "execute_result"
    }
   ],
   "source": [
    "loaded(np.random.uniform(size=(1,28,28)).astype('float32'))"
   ]
  }
 ],
 "metadata": {
  "kernelspec": {
   "display_name": "Python 3",
   "language": "python",
   "name": "python3"
  },
  "language_info": {
   "codemirror_mode": {
    "name": "ipython",
    "version": 3
   },
   "file_extension": ".py",
   "mimetype": "text/x-python",
   "name": "python",
   "nbconvert_exporter": "python",
   "pygments_lexer": "ipython3",
   "version": "3.7.12"
  },
  "papermill": {
   "default_parameters": {},
   "duration": 778.170862,
   "end_time": "2022-04-05T09:43:32.872474",
   "environment_variables": {},
   "exception": null,
   "input_path": "__notebook__.ipynb",
   "output_path": "__notebook__.ipynb",
   "parameters": {},
   "start_time": "2022-04-05T09:30:34.701612",
   "version": "2.3.3"
  }
 },
 "nbformat": 4,
 "nbformat_minor": 5
}
