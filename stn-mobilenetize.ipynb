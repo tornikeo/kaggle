{
 "cells": [
  {
   "cell_type": "code",
   "execution_count": 1,
   "id": "98b57a4b",
   "metadata": {
    "_cell_guid": "b1076dfc-b9ad-4769-8c92-a6c4dae69d19",
    "_uuid": "8f2839f25d086af736a60e9eeb907d3b93b6e0e5",
    "execution": {
     "iopub.execute_input": "2022-02-27T21:08:23.396660Z",
     "iopub.status.busy": "2022-02-27T21:08:23.395248Z",
     "iopub.status.idle": "2022-02-27T21:08:30.879729Z",
     "shell.execute_reply": "2022-02-27T21:08:30.880344Z",
     "shell.execute_reply.started": "2022-02-27T20:58:15.340029Z"
    },
    "papermill": {
     "duration": 7.500966,
     "end_time": "2022-02-27T21:08:30.880652",
     "exception": false,
     "start_time": "2022-02-27T21:08:23.379686",
     "status": "completed"
    },
    "tags": []
   },
   "outputs": [],
   "source": [
    "import argparse\n",
    "import os\n",
    "from pathlib import Path\n",
    "import torch\n",
    "import torch.nn as nn\n",
    "from PIL import Image\n",
    "from os.path import basename\n",
    "from os.path import splitext\n",
    "from torchvision import transforms\n",
    "from torchvision.utils import save_image\n",
    "\n",
    "%load_ext autoreload\n",
    "%autoreload 2\n",
    "import torch \n",
    "import torch.nn as nn\n",
    "import torchvision\n",
    "import torchvision.transforms as T\n",
    "\n",
    "import tensorflow.keras as keras\n",
    "import tensorflow as tf\n",
    "\n",
    "import numpy as np\n",
    "import matplotlib.pyplot as plt\n",
    "\n",
    "from PIL import Image\n",
    "\n",
    "from operator import itemgetter\n",
    "def print_public_attributes(obj):\n",
    "    print(list([att for att in dir(obj) \n",
    "         if '__' not in att and not att.startswith('_')]))"
   ]
  },
  {
   "cell_type": "code",
   "execution_count": 2,
   "id": "26c798b6",
   "metadata": {
    "execution": {
     "iopub.execute_input": "2022-02-27T21:08:30.907143Z",
     "iopub.status.busy": "2022-02-27T21:08:30.906446Z",
     "iopub.status.idle": "2022-02-27T21:08:31.137324Z",
     "shell.execute_reply": "2022-02-27T21:08:31.138183Z",
     "shell.execute_reply.started": "2022-02-27T20:58:15.425477Z"
    },
    "papermill": {
     "duration": 0.244964,
     "end_time": "2022-02-27T21:08:31.138476",
     "exception": false,
     "start_time": "2022-02-27T21:08:30.893512",
     "status": "completed"
    },
    "tags": []
   },
   "outputs": [
    {
     "name": "stderr",
     "output_type": "stream",
     "text": [
      "2022-02-27 21:08:31.062191: I tensorflow/core/common_runtime/process_util.cc:146] Creating new thread pool with default inter op setting: 2. Tune using inter_op_parallelism_threads for best performance.\n"
     ]
    }
   ],
   "source": [
    "def calc_mean_std_pt(feat, eps=1e-5):\n",
    "    # eps is a small value added to the variance to avoid divide-by-zero.\n",
    "    size = feat.size()\n",
    "    assert (len(size) == 4)\n",
    "    N, C = size[:2] # N,C,H,W\n",
    "    feat_var = feat.view(N, C, -1).var(dim=2) + eps\n",
    "    feat_std = feat_var.sqrt().view(N, C, 1, 1)\n",
    "    feat_mean = feat.view(N, C, -1).mean(dim=2).view(N, C, 1, 1)\n",
    "    return feat_mean, feat_std\n",
    "\n",
    "def calc_mean_std_tf(feat, eps=1e-5):\n",
    "    # eps is a small value added to the variance to avoid divide-by-zero.\n",
    "#     feat_mean, feat_var = tf.nn.moments(feat,[2,3],keepdims=True,)\n",
    "    shape = tf.shape(feat)\n",
    "    bessel_correction = shape[2] * shape[3] / (shape[2] * shape[3] - 1)\n",
    "    feat_flat = tf.reshape(feat,[shape[0],shape[1],shape[2] * shape[3]])\n",
    "    feat_mean = tf.reduce_mean(feat_flat,[2],keepdims=True)\n",
    "    feat_var = tf.math.reduce_variance(feat_flat,[2],keepdims=True) * bessel_correction + eps\n",
    "    feat_std = tf.sqrt(feat_var)\n",
    "#     feat_ += eps\n",
    "#     feat_std = tf.sqrt(feat_var)\n",
    "    return feat_mean, feat_std\n",
    "\n",
    "with torch.no_grad():\n",
    "    inval = np.arange(4).reshape(1,1,2,2) / 1.\n",
    "    exp = calc_mean_std_pt(\n",
    "        torch.tensor(inval)\n",
    "    )\n",
    "    act = calc_mean_std_tf(\n",
    "        tf.constant(inval)\n",
    "    )\n",
    "    for a,b in zip(exp,act):\n",
    "        assert np.allclose(a.numpy(),b.numpy())"
   ]
  },
  {
   "cell_type": "code",
   "execution_count": 3,
   "id": "557737e8",
   "metadata": {
    "execution": {
     "iopub.execute_input": "2022-02-27T21:08:31.167804Z",
     "iopub.status.busy": "2022-02-27T21:08:31.167081Z",
     "iopub.status.idle": "2022-02-27T21:08:31.274772Z",
     "shell.execute_reply": "2022-02-27T21:08:31.274079Z",
     "shell.execute_reply.started": "2022-02-27T20:58:15.514286Z"
    },
    "papermill": {
     "duration": 0.123597,
     "end_time": "2022-02-27T21:08:31.274967",
     "exception": false,
     "start_time": "2022-02-27T21:08:31.151370",
     "status": "completed"
    },
    "tags": []
   },
   "outputs": [
    {
     "data": {
      "text/plain": [
       "(<tf.Tensor: shape=(), dtype=float64, numpy=1.25>,\n",
       " tensor(1.2500, dtype=torch.float64))"
      ]
     },
     "execution_count": 3,
     "metadata": {},
     "output_type": "execute_result"
    }
   ],
   "source": [
    "tf.math.reduce_variance(inval), torch.var(torch.tensor(inval),unbiased=False)"
   ]
  },
  {
   "cell_type": "code",
   "execution_count": 4,
   "id": "beafe30d",
   "metadata": {
    "execution": {
     "iopub.execute_input": "2022-02-27T21:08:31.302753Z",
     "iopub.status.busy": "2022-02-27T21:08:31.302056Z",
     "iopub.status.idle": "2022-02-27T21:08:31.375177Z",
     "shell.execute_reply": "2022-02-27T21:08:31.375687Z",
     "shell.execute_reply.started": "2022-02-27T20:58:15.596295Z"
    },
    "papermill": {
     "duration": 0.089545,
     "end_time": "2022-02-27T21:08:31.375894",
     "exception": false,
     "start_time": "2022-02-27T21:08:31.286349",
     "status": "completed"
    },
    "tags": []
   },
   "outputs": [
    {
     "data": {
      "text/plain": [
       "((tensor([[[[1.5000]]]], dtype=torch.float64),\n",
       "  tensor([[[[1.2910]]]], dtype=torch.float64)),\n",
       " (<tf.Tensor: shape=(1, 1, 1), dtype=float64, numpy=array([[[1.5]]])>,\n",
       "  <tf.Tensor: shape=(1, 1, 1), dtype=float64, numpy=array([[[1.29099832]]])>))"
      ]
     },
     "execution_count": 4,
     "metadata": {},
     "output_type": "execute_result"
    }
   ],
   "source": [
    "exp, act"
   ]
  },
  {
   "cell_type": "code",
   "execution_count": 5,
   "id": "85498e13",
   "metadata": {
    "execution": {
     "iopub.execute_input": "2022-02-27T21:08:31.408967Z",
     "iopub.status.busy": "2022-02-27T21:08:31.408233Z",
     "iopub.status.idle": "2022-02-27T21:08:31.490514Z",
     "shell.execute_reply": "2022-02-27T21:08:31.491432Z",
     "shell.execute_reply.started": "2022-02-27T21:01:04.720874Z"
    },
    "papermill": {
     "duration": 0.103192,
     "end_time": "2022-02-27T21:08:31.491621",
     "exception": false,
     "start_time": "2022-02-27T21:08:31.388429",
     "status": "completed"
    },
    "tags": []
   },
   "outputs": [],
   "source": [
    "def mean_variance_norm_pt(feat):\n",
    "    size = feat.size()\n",
    "    mean, std = calc_mean_std_pt(feat)\n",
    "    normalized_feat = (feat - mean.expand(size)) / std.expand(size)\n",
    "    return normalized_feat\n",
    "\n",
    "def mean_variance_norm_tf(feat):\n",
    "    shape = tf.shape(feat)\n",
    "    mean, std = calc_mean_std_tf(feat)\n",
    "    normalized_feat = (feat - tf.broadcast_to(mean,shape)) \\\n",
    "        / tf.broadcast_to(std,shape)\n",
    "    return normalized_feat\n",
    "\n",
    "\n",
    "with torch.no_grad():\n",
    "    inval = np.arange(4).reshape(1,1,2,2) / 1.\n",
    "    exp = mean_variance_norm_pt(\n",
    "        torch.tensor(inval)\n",
    "    )\n",
    "    act = mean_variance_norm_tf(\n",
    "        tf.constant(inval)\n",
    "    )\n",
    "    assert np.allclose(exp.numpy(),act.numpy())"
   ]
  },
  {
   "cell_type": "code",
   "execution_count": 6,
   "id": "2e8457b1",
   "metadata": {
    "execution": {
     "iopub.execute_input": "2022-02-27T21:08:31.520887Z",
     "iopub.status.busy": "2022-02-27T21:08:31.520183Z",
     "iopub.status.idle": "2022-02-27T21:08:31.594272Z",
     "shell.execute_reply": "2022-02-27T21:08:31.594942Z",
     "shell.execute_reply.started": "2022-02-27T20:59:06.046458Z"
    },
    "papermill": {
     "duration": 0.091463,
     "end_time": "2022-02-27T21:08:31.595126",
     "exception": false,
     "start_time": "2022-02-27T21:08:31.503663",
     "status": "completed"
    },
    "tags": []
   },
   "outputs": [
    {
     "data": {
      "text/plain": [
       "(<tf.Tensor: shape=(1, 1, 1), dtype=float64, numpy=array([[[1.5]]])>,\n",
       " <tf.Tensor: shape=(1, 1, 1), dtype=float64, numpy=array([[[1.29099832]]])>)"
      ]
     },
     "execution_count": 6,
     "metadata": {},
     "output_type": "execute_result"
    }
   ],
   "source": [
    "calc_mean_std_tf(inval)"
   ]
  },
  {
   "cell_type": "code",
   "execution_count": 7,
   "id": "c0790501",
   "metadata": {
    "execution": {
     "iopub.execute_input": "2022-02-27T21:08:31.631163Z",
     "iopub.status.busy": "2022-02-27T21:08:31.623034Z",
     "iopub.status.idle": "2022-02-27T21:08:31.703410Z",
     "shell.execute_reply": "2022-02-27T21:08:31.702745Z"
    },
    "papermill": {
     "duration": 0.096047,
     "end_time": "2022-02-27T21:08:31.703592",
     "exception": false,
     "start_time": "2022-02-27T21:08:31.607545",
     "status": "completed"
    },
    "tags": []
   },
   "outputs": [],
   "source": [
    "enc_arch = [\n",
    "    \n",
    "]\n",
    "\n",
    "dec_arch = [\n",
    "    ['refpad',[1,1,1,1]],\n",
    "    ['conv',[512,256,(3,3)]],\n",
    "    ['relu'],\n",
    "    ['upsample',2],\n",
    "    \n",
    "    ['refpad',[1,1,1,1]],\n",
    "    ['conv',[256,256,(3,3)]],\n",
    "    ['relu'],\n",
    "    ['refpad',[1,1,1,1]],\n",
    "    ['conv',[256,256,(3,3)]],\n",
    "    ['relu'],\n",
    "    ['refpad',[1,1,1,1]],\n",
    "    ['conv',[256,256,(3,3)]],\n",
    "    ['relu'],\n",
    "    ['refpad',[1,1,1,1]],\n",
    "    ['conv',[256,128,(3,3)]],\n",
    "    ['relu'],    \n",
    "    ['upsample',2],\n",
    "    \n",
    "    \n",
    "    ['refpad',[1,1,1,1]],\n",
    "    ['conv',[128,128,(3,3)]],\n",
    "    ['relu'],    \n",
    "    ['refpad',[1,1,1,1]],\n",
    "    ['conv',[128,64,(3,3)]],\n",
    "    ['relu'],    \n",
    "    ['upsample',2],\n",
    "    \n",
    "    ['refpad',[1,1,1,1]],\n",
    "    ['conv',[64,64,(3,3)]],\n",
    "    ['relu'],    \n",
    "    ['refpad',[1,1,1,1]],\n",
    "    ['conv',[64,3,(3,3)]],\n",
    "]"
   ]
  },
  {
   "cell_type": "code",
   "execution_count": 8,
   "id": "5fc7e527",
   "metadata": {
    "execution": {
     "iopub.execute_input": "2022-02-27T21:08:31.734831Z",
     "iopub.status.busy": "2022-02-27T21:08:31.734111Z",
     "iopub.status.idle": "2022-02-27T21:08:31.810809Z",
     "shell.execute_reply": "2022-02-27T21:08:31.810050Z",
     "shell.execute_reply.started": "2022-02-27T20:59:08.125006Z"
    },
    "papermill": {
     "duration": 0.094737,
     "end_time": "2022-02-27T21:08:31.811010",
     "exception": false,
     "start_time": "2022-02-27T21:08:31.716273",
     "status": "completed"
    },
    "tags": []
   },
   "outputs": [],
   "source": [
    "x = torch.tensor(inval)"
   ]
  }
 ],
 "metadata": {
  "kernelspec": {
   "display_name": "Python 3",
   "language": "python",
   "name": "python3"
  },
  "language_info": {
   "codemirror_mode": {
    "name": "ipython",
    "version": 3
   },
   "file_extension": ".py",
   "mimetype": "text/x-python",
   "name": "python",
   "nbconvert_exporter": "python",
   "pygments_lexer": "ipython3",
   "version": "3.7.12"
  },
  "papermill": {
   "default_parameters": {},
   "duration": 21.583672,
   "end_time": "2022-02-27T21:08:34.877357",
   "environment_variables": {},
   "exception": null,
   "input_path": "__notebook__.ipynb",
   "output_path": "__notebook__.ipynb",
   "parameters": {},
   "start_time": "2022-02-27T21:08:13.293685",
   "version": "2.3.3"
  }
 },
 "nbformat": 4,
 "nbformat_minor": 5
}
