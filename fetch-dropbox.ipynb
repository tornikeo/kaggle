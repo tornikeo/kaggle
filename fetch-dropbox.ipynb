{
 "cells": [
  {
   "cell_type": "code",
   "execution_count": 1,
   "id": "dac28946",
   "metadata": {
    "_cell_guid": "b1076dfc-b9ad-4769-8c92-a6c4dae69d19",
    "_uuid": "8f2839f25d086af736a60e9eeb907d3b93b6e0e5",
    "execution": {
     "iopub.execute_input": "2022-02-14T18:32:12.153807Z",
     "iopub.status.busy": "2022-02-14T18:32:12.151934Z",
     "iopub.status.idle": "2022-02-14T18:32:14.977854Z",
     "shell.execute_reply": "2022-02-14T18:32:14.978432Z",
     "shell.execute_reply.started": "2022-02-14T18:30:28.492411Z"
    },
    "papermill": {
     "duration": 2.835729,
     "end_time": "2022-02-14T18:32:14.978802",
     "exception": false,
     "start_time": "2022-02-14T18:32:12.143073",
     "status": "completed"
    },
    "tags": []
   },
   "outputs": [],
   "source": [
    "import requests\n",
    "from requests.auth import HTTPBasicAuth\n",
    "import shutil\n",
    "\n",
    "import requests, zipfile, io\n",
    "\n",
    "r = requests.get('https://www.dropbox.com/sh/bgannbuenmci8pc/AABJfUhBFfKlQdYkHLOrgREha?dl=1', stream=True)\n",
    "z = zipfile.ZipFile(io.BytesIO(r.content))\n",
    "z.extractall(\"model\")"
   ]
  }
 ],
 "metadata": {
  "kernelspec": {
   "display_name": "Python 3",
   "language": "python",
   "name": "python3"
  },
  "language_info": {
   "codemirror_mode": {
    "name": "ipython",
    "version": 3
   },
   "file_extension": ".py",
   "mimetype": "text/x-python",
   "name": "python",
   "nbconvert_exporter": "python",
   "pygments_lexer": "ipython3",
   "version": "3.7.12"
  },
  "papermill": {
   "default_parameters": {},
   "duration": 13.937551,
   "end_time": "2022-02-14T18:32:15.594390",
   "environment_variables": {},
   "exception": null,
   "input_path": "__notebook__.ipynb",
   "output_path": "__notebook__.ipynb",
   "parameters": {},
   "start_time": "2022-02-14T18:32:01.656839",
   "version": "2.3.3"
  }
 },
 "nbformat": 4,
 "nbformat_minor": 5
}
