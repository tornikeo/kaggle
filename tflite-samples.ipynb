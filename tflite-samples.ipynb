{
 "cells": [
  {
   "cell_type": "code",
   "execution_count": 1,
   "id": "455fea56",
   "metadata": {
    "_cell_guid": "b1076dfc-b9ad-4769-8c92-a6c4dae69d19",
    "_uuid": "8f2839f25d086af736a60e9eeb907d3b93b6e0e5",
    "execution": {
     "iopub.execute_input": "2022-04-11T16:01:36.418989Z",
     "iopub.status.busy": "2022-04-11T16:01:36.418408Z",
     "iopub.status.idle": "2022-04-11T16:01:41.998128Z",
     "shell.execute_reply": "2022-04-11T16:01:41.997501Z",
     "shell.execute_reply.started": "2022-04-11T16:00:55.388122Z"
    },
    "papermill": {
     "duration": 5.59307,
     "end_time": "2022-04-11T16:01:41.998314",
     "exception": false,
     "start_time": "2022-04-11T16:01:36.405244",
     "status": "completed"
    },
    "tags": []
   },
   "outputs": [],
   "source": [
    "import tensorflow as tf\n",
    "import numpy as np\n",
    "import matplotlib.pyplot as plt\n",
    "import tensorflow.keras as keras"
   ]
  },
  {
   "cell_type": "code",
   "execution_count": null,
   "id": "e8671251",
   "metadata": {
    "papermill": {
     "duration": 0.002729,
     "end_time": "2022-04-11T16:01:42.004434",
     "exception": false,
     "start_time": "2022-04-11T16:01:42.001705",
     "status": "completed"
    },
    "tags": []
   },
   "outputs": [],
   "source": []
  }
 ],
 "metadata": {
  "kernelspec": {
   "display_name": "Python 3",
   "language": "python",
   "name": "python3"
  },
  "language_info": {
   "codemirror_mode": {
    "name": "ipython",
    "version": 3
   },
   "file_extension": ".py",
   "mimetype": "text/x-python",
   "name": "python",
   "nbconvert_exporter": "python",
   "pygments_lexer": "ipython3",
   "version": "3.7.12"
  },
  "papermill": {
   "default_parameters": {},
   "duration": 17.335253,
   "end_time": "2022-04-11T16:01:45.029396",
   "environment_variables": {},
   "exception": null,
   "input_path": "__notebook__.ipynb",
   "output_path": "__notebook__.ipynb",
   "parameters": {},
   "start_time": "2022-04-11T16:01:27.694143",
   "version": "2.3.3"
  }
 },
 "nbformat": 4,
 "nbformat_minor": 5
}
